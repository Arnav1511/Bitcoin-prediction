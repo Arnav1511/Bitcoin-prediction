{
  "nbformat": 4,
  "nbformat_minor": 0,
  "metadata": {
    "colab": {
      "name": "Untitled0.ipynb",
      "provenance": [],
      "collapsed_sections": [],
      "authorship_tag": "ABX9TyOn1lfWDvi12FT/HI4KzWZn",
      "include_colab_link": true
    },
    "kernelspec": {
      "name": "python3",
      "display_name": "Python 3"
    },
    "language_info": {
      "name": "python"
    }
  },
  "cells": [
    {
      "cell_type": "markdown",
      "metadata": {
        "id": "view-in-github",
        "colab_type": "text"
      },
      "source": [
        "<a href=\"https://colab.research.google.com/github/Arnav1511/Bitcoin-prediction/blob/main/Untitled0.ipynb\" target=\"_parent\"><img src=\"https://colab.research.google.com/assets/colab-badge.svg\" alt=\"Open In Colab\"/></a>"
      ]
    },
    {
      "cell_type": "code",
      "metadata": {
        "id": "raSG5PrljfBs"
      },
      "source": [
        "# Description: This program predicts the price of Bitcoin for the next 30 days"
      ],
      "execution_count": null,
      "outputs": []
    },
    {
      "cell_type": "code",
      "metadata": {
        "id": "-uo104tnkGOM"
      },
      "source": [
        "#Import the libraries\n",
        "import pandas as pd\n",
        "import numpy as np"
      ],
      "execution_count": null,
      "outputs": []
    },
    {
      "cell_type": "code",
      "metadata": {
        "colab": {
          "resources": {
            "http://localhost:8080/nbextensions/google.colab/files.js": {
              "data": "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",
              "ok": true,
              "headers": [
                [
                  "content-type",
                  "application/javascript"
                ]
              ],
              "status": 200,
              "status_text": ""
            }
          },
          "base_uri": "https://localhost:8080/",
          "height": 73
        },
        "id": "A848EFvR19o2",
        "outputId": "e8b17d96-6bc0-48f1-ca4c-c7c8fc43be89"
      },
      "source": [
        "#load the data\n",
        "from google.colab import files \n",
        "uploaded = files.upload()"
      ],
      "execution_count": null,
      "outputs": [
        {
          "output_type": "display_data",
          "data": {
            "text/html": [
              "\n",
              "     <input type=\"file\" id=\"files-553a9188-fed9-4d24-935f-c516a6f57598\" name=\"files[]\" multiple disabled\n",
              "        style=\"border:none\" />\n",
              "     <output id=\"result-553a9188-fed9-4d24-935f-c516a6f57598\">\n",
              "      Upload widget is only available when the cell has been executed in the\n",
              "      current browser session. Please rerun this cell to enable.\n",
              "      </output>\n",
              "      <script src=\"/nbextensions/google.colab/files.js\"></script> "
            ],
            "text/plain": [
              "<IPython.core.display.HTML object>"
            ]
          },
          "metadata": {
            "tags": []
          }
        },
        {
          "output_type": "stream",
          "text": [
            "Saving market-price.csv to market-price.csv\n"
          ],
          "name": "stdout"
        }
      ]
    },
    {
      "cell_type": "code",
      "metadata": {
        "colab": {
          "base_uri": "https://localhost:8080/",
          "height": 266
        },
        "id": "VhWefqhwlJF8",
        "outputId": "74e2b67c-f8aa-4921-da62-55f4372c54d5"
      },
      "source": [
        "#Store the data into a variable\n",
        "df = pd.read_csv('market-price.csv')\n",
        "\n",
        "#Show the first 7 rows of the data\n",
        "df.head(7)"
      ],
      "execution_count": null,
      "outputs": [
        {
          "output_type": "execute_result",
          "data": {
            "text/html": [
              "<div>\n",
              "<style scoped>\n",
              "    .dataframe tbody tr th:only-of-type {\n",
              "        vertical-align: middle;\n",
              "    }\n",
              "\n",
              "    .dataframe tbody tr th {\n",
              "        vertical-align: top;\n",
              "    }\n",
              "\n",
              "    .dataframe thead th {\n",
              "        text-align: right;\n",
              "    }\n",
              "</style>\n",
              "<table border=\"1\" class=\"dataframe\">\n",
              "  <thead>\n",
              "    <tr style=\"text-align: right;\">\n",
              "      <th></th>\n",
              "      <th>2020-04-07 00:00:00</th>\n",
              "      <th>7343.2</th>\n",
              "    </tr>\n",
              "  </thead>\n",
              "  <tbody>\n",
              "    <tr>\n",
              "      <th>0</th>\n",
              "      <td>2020-04-08 00:00:00</td>\n",
              "      <td>7205.55</td>\n",
              "    </tr>\n",
              "    <tr>\n",
              "      <th>1</th>\n",
              "      <td>2020-04-09 00:00:00</td>\n",
              "      <td>7365.03</td>\n",
              "    </tr>\n",
              "    <tr>\n",
              "      <th>2</th>\n",
              "      <td>2020-04-10 00:00:00</td>\n",
              "      <td>7293.69</td>\n",
              "    </tr>\n",
              "    <tr>\n",
              "      <th>3</th>\n",
              "      <td>2020-04-11 00:00:00</td>\n",
              "      <td>6873.24</td>\n",
              "    </tr>\n",
              "    <tr>\n",
              "      <th>4</th>\n",
              "      <td>2020-04-12 00:00:00</td>\n",
              "      <td>6891.60</td>\n",
              "    </tr>\n",
              "    <tr>\n",
              "      <th>5</th>\n",
              "      <td>2020-04-13 00:00:00</td>\n",
              "      <td>6915.37</td>\n",
              "    </tr>\n",
              "    <tr>\n",
              "      <th>6</th>\n",
              "      <td>2020-04-14 00:00:00</td>\n",
              "      <td>6857.66</td>\n",
              "    </tr>\n",
              "  </tbody>\n",
              "</table>\n",
              "</div>"
            ],
            "text/plain": [
              "   2020-04-07 00:00:00   7343.2\n",
              "0  2020-04-08 00:00:00  7205.55\n",
              "1  2020-04-09 00:00:00  7365.03\n",
              "2  2020-04-10 00:00:00  7293.69\n",
              "3  2020-04-11 00:00:00  6873.24\n",
              "4  2020-04-12 00:00:00  6891.60\n",
              "5  2020-04-13 00:00:00  6915.37\n",
              "6  2020-04-14 00:00:00  6857.66"
            ]
          },
          "metadata": {
            "tags": []
          },
          "execution_count": 262
        }
      ]
    },
    {
      "cell_type": "code",
      "metadata": {
        "id": "dHskbyvtoPOK"
      },
      "source": [
        "#Remove the Date column\n",
        "df.drop(['2020-04-07 00:00:00'],1,inplace=True)\n"
      ],
      "execution_count": null,
      "outputs": []
    },
    {
      "cell_type": "code",
      "metadata": {
        "colab": {
          "base_uri": "https://localhost:8080/",
          "height": 266
        },
        "id": "24ZiOmvFmTDR",
        "outputId": "7d02169b-d357-4051-8c5f-841d363726de"
      },
      "source": [
        "#Show the first 7 rows of the new data set\n",
        "df.head(7)"
      ],
      "execution_count": null,
      "outputs": [
        {
          "output_type": "execute_result",
          "data": {
            "text/html": [
              "<div>\n",
              "<style scoped>\n",
              "    .dataframe tbody tr th:only-of-type {\n",
              "        vertical-align: middle;\n",
              "    }\n",
              "\n",
              "    .dataframe tbody tr th {\n",
              "        vertical-align: top;\n",
              "    }\n",
              "\n",
              "    .dataframe thead th {\n",
              "        text-align: right;\n",
              "    }\n",
              "</style>\n",
              "<table border=\"1\" class=\"dataframe\">\n",
              "  <thead>\n",
              "    <tr style=\"text-align: right;\">\n",
              "      <th></th>\n",
              "      <th>7343.2</th>\n",
              "    </tr>\n",
              "  </thead>\n",
              "  <tbody>\n",
              "    <tr>\n",
              "      <th>0</th>\n",
              "      <td>7205.55</td>\n",
              "    </tr>\n",
              "    <tr>\n",
              "      <th>1</th>\n",
              "      <td>7365.03</td>\n",
              "    </tr>\n",
              "    <tr>\n",
              "      <th>2</th>\n",
              "      <td>7293.69</td>\n",
              "    </tr>\n",
              "    <tr>\n",
              "      <th>3</th>\n",
              "      <td>6873.24</td>\n",
              "    </tr>\n",
              "    <tr>\n",
              "      <th>4</th>\n",
              "      <td>6891.60</td>\n",
              "    </tr>\n",
              "    <tr>\n",
              "      <th>5</th>\n",
              "      <td>6915.37</td>\n",
              "    </tr>\n",
              "    <tr>\n",
              "      <th>6</th>\n",
              "      <td>6857.66</td>\n",
              "    </tr>\n",
              "  </tbody>\n",
              "</table>\n",
              "</div>"
            ],
            "text/plain": [
              "    7343.2\n",
              "0  7205.55\n",
              "1  7365.03\n",
              "2  7293.69\n",
              "3  6873.24\n",
              "4  6891.60\n",
              "5  6915.37\n",
              "6  6857.66"
            ]
          },
          "metadata": {
            "tags": []
          },
          "execution_count": 265
        }
      ]
    },
    {
      "cell_type": "code",
      "metadata": {
        "id": "dgdnWKZlout-"
      },
      "source": [
        "# A variable for predicting 'n' days out into the future\n",
        "prediction_days=30  #n = prediction_days \n",
        "\n",
        "#Create another colum shifted 'n' units up\n",
        "df['Prediction'] = df[['7343.2']].shift(-prediction_days)"
      ],
      "execution_count": null,
      "outputs": []
    },
    {
      "cell_type": "code",
      "metadata": {
        "colab": {
          "base_uri": "https://localhost:8080/",
          "height": 266
        },
        "id": "z-4SWO5gps2C",
        "outputId": "f12c8767-5cbc-447f-dae5-1f78d554ef91"
      },
      "source": [
        "#Show the new 7 rows of the data set\n",
        "df.head(7)"
      ],
      "execution_count": null,
      "outputs": [
        {
          "output_type": "execute_result",
          "data": {
            "text/html": [
              "<div>\n",
              "<style scoped>\n",
              "    .dataframe tbody tr th:only-of-type {\n",
              "        vertical-align: middle;\n",
              "    }\n",
              "\n",
              "    .dataframe tbody tr th {\n",
              "        vertical-align: top;\n",
              "    }\n",
              "\n",
              "    .dataframe thead th {\n",
              "        text-align: right;\n",
              "    }\n",
              "</style>\n",
              "<table border=\"1\" class=\"dataframe\">\n",
              "  <thead>\n",
              "    <tr style=\"text-align: right;\">\n",
              "      <th></th>\n",
              "      <th>7343.2</th>\n",
              "      <th>Prediction</th>\n",
              "    </tr>\n",
              "  </thead>\n",
              "  <tbody>\n",
              "    <tr>\n",
              "      <th>0</th>\n",
              "      <td>7205.55</td>\n",
              "      <td>10002.48</td>\n",
              "    </tr>\n",
              "    <tr>\n",
              "      <th>1</th>\n",
              "      <td>7365.03</td>\n",
              "      <td>9821.80</td>\n",
              "    </tr>\n",
              "    <tr>\n",
              "      <th>2</th>\n",
              "      <td>7293.69</td>\n",
              "      <td>9527.39</td>\n",
              "    </tr>\n",
              "    <tr>\n",
              "      <th>3</th>\n",
              "      <td>6873.24</td>\n",
              "      <td>8754.46</td>\n",
              "    </tr>\n",
              "    <tr>\n",
              "      <th>4</th>\n",
              "      <td>6891.60</td>\n",
              "      <td>8617.25</td>\n",
              "    </tr>\n",
              "    <tr>\n",
              "      <th>5</th>\n",
              "      <td>6915.37</td>\n",
              "      <td>8814.53</td>\n",
              "    </tr>\n",
              "    <tr>\n",
              "      <th>6</th>\n",
              "      <td>6857.66</td>\n",
              "      <td>9305.93</td>\n",
              "    </tr>\n",
              "  </tbody>\n",
              "</table>\n",
              "</div>"
            ],
            "text/plain": [
              "    7343.2  Prediction\n",
              "0  7205.55    10002.48\n",
              "1  7365.03     9821.80\n",
              "2  7293.69     9527.39\n",
              "3  6873.24     8754.46\n",
              "4  6891.60     8617.25\n",
              "5  6915.37     8814.53\n",
              "6  6857.66     9305.93"
            ]
          },
          "metadata": {
            "tags": []
          },
          "execution_count": 312
        }
      ]
    },
    {
      "cell_type": "code",
      "metadata": {
        "colab": {
          "base_uri": "https://localhost:8080/",
          "height": 266
        },
        "id": "JrxJGmwYp48L",
        "outputId": "7b20c6d4-1245-4961-98d7-b9c8cdd31622"
      },
      "source": [
        "#Show the last 7 rows of the new data set should be empty\n",
        "df.tail(7)\n",
        "      "
      ],
      "execution_count": null,
      "outputs": [
        {
          "output_type": "execute_result",
          "data": {
            "text/html": [
              "<div>\n",
              "<style scoped>\n",
              "    .dataframe tbody tr th:only-of-type {\n",
              "        vertical-align: middle;\n",
              "    }\n",
              "\n",
              "    .dataframe tbody tr th {\n",
              "        vertical-align: top;\n",
              "    }\n",
              "\n",
              "    .dataframe thead th {\n",
              "        text-align: right;\n",
              "    }\n",
              "</style>\n",
              "<table border=\"1\" class=\"dataframe\">\n",
              "  <thead>\n",
              "    <tr style=\"text-align: right;\">\n",
              "      <th></th>\n",
              "      <th>7343.2</th>\n",
              "      <th>Prediction</th>\n",
              "    </tr>\n",
              "  </thead>\n",
              "  <tbody>\n",
              "    <tr>\n",
              "      <th>357</th>\n",
              "      <td>58730.13</td>\n",
              "      <td>NaN</td>\n",
              "    </tr>\n",
              "    <tr>\n",
              "      <th>358</th>\n",
              "      <td>58735.25</td>\n",
              "      <td>NaN</td>\n",
              "    </tr>\n",
              "    <tr>\n",
              "      <th>359</th>\n",
              "      <td>58736.92</td>\n",
              "      <td>NaN</td>\n",
              "    </tr>\n",
              "    <tr>\n",
              "      <th>360</th>\n",
              "      <td>59031.32</td>\n",
              "      <td>NaN</td>\n",
              "    </tr>\n",
              "    <tr>\n",
              "      <th>361</th>\n",
              "      <td>57076.49</td>\n",
              "      <td>NaN</td>\n",
              "    </tr>\n",
              "    <tr>\n",
              "      <th>362</th>\n",
              "      <td>58206.55</td>\n",
              "      <td>NaN</td>\n",
              "    </tr>\n",
              "    <tr>\n",
              "      <th>363</th>\n",
              "      <td>59054.10</td>\n",
              "      <td>NaN</td>\n",
              "    </tr>\n",
              "  </tbody>\n",
              "</table>\n",
              "</div>"
            ],
            "text/plain": [
              "       7343.2  Prediction\n",
              "357  58730.13         NaN\n",
              "358  58735.25         NaN\n",
              "359  58736.92         NaN\n",
              "360  59031.32         NaN\n",
              "361  57076.49         NaN\n",
              "362  58206.55         NaN\n",
              "363  59054.10         NaN"
            ]
          },
          "metadata": {
            "tags": []
          },
          "execution_count": 313
        }
      ]
    },
    {
      "cell_type": "code",
      "metadata": {
        "colab": {
          "base_uri": "https://localhost:8080/"
        },
        "id": "u24VCsuKqOzk",
        "outputId": "f2e7c64d-f791-476a-83c5-e309dcbfe1cd"
      },
      "source": [
        "#Create the independent dataset\n",
        "\n",
        "#Convert the dataframe to a numpy array and then drop the prediction column\n",
        "X = np.array(df.drop(['Prediction'],1))\n",
        "\n",
        "#Remove the last 'n' rows where 'n' is prediction\n",
        "X = X[:len(df)-prediction_days]\n",
        "\n",
        "print(X)"
      ],
      "execution_count": null,
      "outputs": [
        {
          "output_type": "stream",
          "text": [
            "[[ 7205.55]\n",
            " [ 7365.03]\n",
            " [ 7293.69]\n",
            " [ 6873.24]\n",
            " [ 6891.6 ]\n",
            " [ 6915.37]\n",
            " [ 6857.66]\n",
            " [ 6871.95]\n",
            " [ 6623.8 ]\n",
            " [ 7112.27]\n",
            " [ 7034.89]\n",
            " [ 7259.36]\n",
            " [ 7130.04]\n",
            " [ 6840.24]\n",
            " [ 6852.52]\n",
            " [ 7130.99]\n",
            " [ 7477.6 ]\n",
            " [ 7507.08]\n",
            " [ 7549.52]\n",
            " [ 7699.27]\n",
            " [ 7790.66]\n",
            " [ 7765.33]\n",
            " [ 8777.63]\n",
            " [ 8628.77]\n",
            " [ 8824.66]\n",
            " [ 8973.82]\n",
            " [ 8903.95]\n",
            " [ 8885.93]\n",
            " [ 9030.96]\n",
            " [ 9170.79]\n",
            " [10002.48]\n",
            " [ 9821.8 ]\n",
            " [ 9527.39]\n",
            " [ 8754.46]\n",
            " [ 8617.25]\n",
            " [ 8814.53]\n",
            " [ 9305.93]\n",
            " [ 9790.31]\n",
            " [ 9303.59]\n",
            " [ 9385.7 ]\n",
            " [ 9669.4 ]\n",
            " [ 9719.37]\n",
            " [ 9785.74]\n",
            " [ 9510.67]\n",
            " [ 9057.57]\n",
            " [ 9167.26]\n",
            " [ 9178.32]\n",
            " [ 8730.73]\n",
            " [ 8899.66]\n",
            " [ 8842.85]\n",
            " [ 9197.54]\n",
            " [ 9569.21]\n",
            " [ 9425.98]\n",
            " [ 9698.1 ]\n",
            " [ 9450.84]\n",
            " [10204.23]\n",
            " [ 9525.57]\n",
            " [ 9658.04]\n",
            " [ 9794.56]\n",
            " [ 9623.75]\n",
            " [ 9670.43]\n",
            " [ 9753.85]\n",
            " [ 9782.59]\n",
            " [ 9775.15]\n",
            " [ 9892.13]\n",
            " [ 9286.42]\n",
            " [ 9459.97]\n",
            " [ 9473.5 ]\n",
            " [ 9330.07]\n",
            " [ 9426.7 ]\n",
            " [ 9526.  ]\n",
            " [ 9454.81]\n",
            " [ 9380.03]\n",
            " [ 9300.15]\n",
            " [ 9357.43]\n",
            " [ 9284.78]\n",
            " [ 9691.9 ]\n",
            " [ 9621.49]\n",
            " [ 9276.58]\n",
            " [ 9240.85]\n",
            " [ 9154.45]\n",
            " [ 9004.23]\n",
            " [ 9127.47]\n",
            " [ 9185.35]\n",
            " [ 9133.97]\n",
            " [ 9236.38]\n",
            " [ 9087.98]\n",
            " [ 9072.42]\n",
            " [ 9131.31]\n",
            " [ 9089.09]\n",
            " [ 9348.91]\n",
            " [ 9256.23]\n",
            " [ 9440.07]\n",
            " [ 9238.04]\n",
            " [ 9287.4 ]\n",
            " [ 9235.96]\n",
            " [ 9295.9 ]\n",
            " [ 9238.13]\n",
            " [ 9254.52]\n",
            " [ 9193.51]\n",
            " [ 9131.  ]\n",
            " [ 9154.19]\n",
            " [ 9174.71]\n",
            " [ 9214.66]\n",
            " [ 9163.87]\n",
            " [ 9392.66]\n",
            " [ 9537.4 ]\n",
            " [ 9613.11]\n",
            " [ 9551.28]\n",
            " [ 9707.5 ]\n",
            " [ 9938.83]\n",
            " [11042.4 ]\n",
            " [10934.94]\n",
            " [11102.67]\n",
            " [11114.93]\n",
            " [11343.88]\n",
            " [11823.69]\n",
            " [11077.77]\n",
            " [11242.57]\n",
            " [11194.25]\n",
            " [11750.28]\n",
            " [11772.94]\n",
            " [11605.6 ]\n",
            " [11767.6 ]\n",
            " [11684.06]\n",
            " [11893.03]\n",
            " [11392.43]\n",
            " [11573.11]\n",
            " [11777.43]\n",
            " [11774.38]\n",
            " [11873.98]\n",
            " [11914.01]\n",
            " [12293.72]\n",
            " [11969.53]\n",
            " [11734.  ]\n",
            " [11865.82]\n",
            " [11522.8 ]\n",
            " [11683.44]\n",
            " [11653.02]\n",
            " [11763.93]\n",
            " [11337.4 ]\n",
            " [11467.37]\n",
            " [11302.01]\n",
            " [11534.75]\n",
            " [11481.64]\n",
            " [11707.78]\n",
            " [11659.57]\n",
            " [11923.25]\n",
            " [11397.44]\n",
            " [10187.51]\n",
            " [10467.89]\n",
            " [10159.62]\n",
            " [10254.93]\n",
            " [10367.74]\n",
            " [10121.52]\n",
            " [10227.83]\n",
            " [10352.66]\n",
            " [10395.44]\n",
            " [10446.44]\n",
            " [10330.77]\n",
            " [10674.64]\n",
            " [10785.62]\n",
            " [10948.43]\n",
            " [10943.89]\n",
            " [10931.79]\n",
            " [11081.43]\n",
            " [10919.65]\n",
            " [10430.46]\n",
            " [10532.22]\n",
            " [10234.48]\n",
            " [10732.43]\n",
            " [10692.84]\n",
            " [10732.4 ]\n",
            " [10774.24]\n",
            " [10692.33]\n",
            " [10840.8 ]\n",
            " [10777.92]\n",
            " [10619.24]\n",
            " [10575.06]\n",
            " [10551.77]\n",
            " [10673.46]\n",
            " [10788.56]\n",
            " [10603.74]\n",
            " [10670.8 ]\n",
            " [10923.3 ]\n",
            " [11063.19]\n",
            " [11302.67]\n",
            " [11376.61]\n",
            " [11540.04]\n",
            " [11428.24]\n",
            " [11431.32]\n",
            " [11503.73]\n",
            " [11327.57]\n",
            " [11366.51]\n",
            " [11508.2 ]\n",
            " [11758.16]\n",
            " [11925.46]\n",
            " [12831.56]\n",
            " [12990.25]\n",
            " [12944.52]\n",
            " [13128.46]\n",
            " [13036.77]\n",
            " [13076.37]\n",
            " [13651.47]\n",
            " [13289.  ]\n",
            " [13458.66]\n",
            " [13564.72]\n",
            " [13810.32]\n",
            " [13758.88]\n",
            " [13575.17]\n",
            " [14023.31]\n",
            " [14155.59]\n",
            " [15591.39]\n",
            " [15595.77]\n",
            " [14839.84]\n",
            " [15490.6 ]\n",
            " [15328.53]\n",
            " [15317.04]\n",
            " [15708.65]\n",
            " [16295.57]\n",
            " [16339.33]\n",
            " [16091.07]\n",
            " [15968.16]\n",
            " [16725.15]\n",
            " [17679.72]\n",
            " [17798.45]\n",
            " [17820.57]\n",
            " [18687.45]\n",
            " [18699.75]\n",
            " [18422.28]\n",
            " [18398.91]\n",
            " [19172.52]\n",
            " [18739.8 ]\n",
            " [17151.44]\n",
            " [17138.87]\n",
            " [17732.42]\n",
            " [18191.6 ]\n",
            " [19709.73]\n",
            " [18792.52]\n",
            " [19226.97]\n",
            " [19454.54]\n",
            " [18670.49]\n",
            " [19155.06]\n",
            " [19377.66]\n",
            " [19181.41]\n",
            " [18318.87]\n",
            " [18554.15]\n",
            " [18247.76]\n",
            " [18029.36]\n",
            " [18803.44]\n",
            " [19164.48]\n",
            " [19276.59]\n",
            " [19439.75]\n",
            " [21379.48]\n",
            " [22847.46]\n",
            " [23150.79]\n",
            " [23869.92]\n",
            " [23490.58]\n",
            " [22745.48]\n",
            " [23824.99]\n",
            " [23253.37]\n",
            " [23715.53]\n",
            " [24693.58]\n",
            " [26443.21]\n",
            " [26246.58]\n",
            " [27036.69]\n",
            " [27376.37]\n",
            " [28856.59]\n",
            " [28982.56]\n",
            " [29393.75]\n",
            " [32195.46]\n",
            " [33000.78]\n",
            " [32035.03]\n",
            " [34046.67]\n",
            " [36860.41]\n",
            " [39486.04]\n",
            " [40670.25]\n",
            " [40240.72]\n",
            " [38240.09]\n",
            " [35544.94]\n",
            " [34011.82]\n",
            " [37393.13]\n",
            " [39158.47]\n",
            " [36828.52]\n",
            " [36065.2 ]\n",
            " [35793.01]\n",
            " [36632.35]\n",
            " [36020.13]\n",
            " [35538.98]\n",
            " [30797.88]\n",
            " [33002.38]\n",
            " [32099.74]\n",
            " [32276.84]\n",
            " [32243.26]\n",
            " [32541.8 ]\n",
            " [30419.17]\n",
            " [33403.17]\n",
            " [34314.26]\n",
            " [34318.1 ]\n",
            " [33136.46]\n",
            " [33522.9 ]\n",
            " [35529.66]\n",
            " [37676.25]\n",
            " [37002.09]\n",
            " [38278.61]\n",
            " [39323.26]\n",
            " [38928.1 ]\n",
            " [46364.3 ]\n",
            " [46589.58]\n",
            " [44878.17]\n",
            " [48013.38]\n",
            " [47471.4 ]\n",
            " [47185.19]\n",
            " [48720.37]\n",
            " [47951.85]\n",
            " [49160.1 ]\n",
            " [52118.23]\n",
            " [51608.15]\n",
            " [55916.5 ]\n",
            " [56001.2 ]\n",
            " [57487.86]\n",
            " [54123.4 ]\n",
            " [48880.43]\n",
            " [50624.84]\n",
            " [46800.42]\n",
            " [46340.31]\n",
            " [46155.87]\n",
            " [45113.92]\n",
            " [49618.43]\n",
            " [48356.04]\n",
            " [50477.7 ]\n",
            " [48448.91]\n",
            " [48861.38]\n",
            " [48881.59]]\n"
          ],
          "name": "stdout"
        }
      ]
    },
    {
      "cell_type": "code",
      "metadata": {
        "colab": {
          "base_uri": "https://localhost:8080/"
        },
        "id": "vfQhO6uirbPn",
        "outputId": "9248a3d4-32d3-4298-d981-7e1faff1e0df"
      },
      "source": [
        "#Create the dependant dataset\n",
        "\n",
        "#Convert the dataframe to a numpy array\n",
        "y = np.array(df['Prediction'])\n",
        "\n",
        "#Get all of the values except the last 'n' rows which are NAN\n",
        "\n",
        "y = y[:-prediction_days]\n",
        "print(y)"
      ],
      "execution_count": null,
      "outputs": [
        {
          "output_type": "stream",
          "text": [
            "[10002.48  9821.8   9527.39  8754.46  8617.25  8814.53  9305.93  9790.31\n",
            "  9303.59  9385.7   9669.4   9719.37  9785.74  9510.67  9057.57  9167.26\n",
            "  9178.32  8730.73  8899.66  8842.85  9197.54  9569.21  9425.98  9698.1\n",
            "  9450.84 10204.23  9525.57  9658.04  9794.56  9623.75  9670.43  9753.85\n",
            "  9782.59  9775.15  9892.13  9286.42  9459.97  9473.5   9330.07  9426.7\n",
            "  9526.    9454.81  9380.03  9300.15  9357.43  9284.78  9691.9   9621.49\n",
            "  9276.58  9240.85  9154.45  9004.23  9127.47  9185.35  9133.97  9236.38\n",
            "  9087.98  9072.42  9131.31  9089.09  9348.91  9256.23  9440.07  9238.04\n",
            "  9287.4   9235.96  9295.9   9238.13  9254.52  9193.51  9131.    9154.19\n",
            "  9174.71  9214.66  9163.87  9392.66  9537.4   9613.11  9551.28  9707.5\n",
            "  9938.83 11042.4  10934.94 11102.67 11114.93 11343.88 11823.69 11077.77\n",
            " 11242.57 11194.25 11750.28 11772.94 11605.6  11767.6  11684.06 11893.03\n",
            " 11392.43 11573.11 11777.43 11774.38 11873.98 11914.01 12293.72 11969.53\n",
            " 11734.   11865.82 11522.8  11683.44 11653.02 11763.93 11337.4  11467.37\n",
            " 11302.01 11534.75 11481.64 11707.78 11659.57 11923.25 11397.44 10187.51\n",
            " 10467.89 10159.62 10254.93 10367.74 10121.52 10227.83 10352.66 10395.44\n",
            " 10446.44 10330.77 10674.64 10785.62 10948.43 10943.89 10931.79 11081.43\n",
            " 10919.65 10430.46 10532.22 10234.48 10732.43 10692.84 10732.4  10774.24\n",
            " 10692.33 10840.8  10777.92 10619.24 10575.06 10551.77 10673.46 10788.56\n",
            " 10603.74 10670.8  10923.3  11063.19 11302.67 11376.61 11540.04 11428.24\n",
            " 11431.32 11503.73 11327.57 11366.51 11508.2  11758.16 11925.46 12831.56\n",
            " 12990.25 12944.52 13128.46 13036.77 13076.37 13651.47 13289.   13458.66\n",
            " 13564.72 13810.32 13758.88 13575.17 14023.31 14155.59 15591.39 15595.77\n",
            " 14839.84 15490.6  15328.53 15317.04 15708.65 16295.57 16339.33 16091.07\n",
            " 15968.16 16725.15 17679.72 17798.45 17820.57 18687.45 18699.75 18422.28\n",
            " 18398.91 19172.52 18739.8  17151.44 17138.87 17732.42 18191.6  19709.73\n",
            " 18792.52 19226.97 19454.54 18670.49 19155.06 19377.66 19181.41 18318.87\n",
            " 18554.15 18247.76 18029.36 18803.44 19164.48 19276.59 19439.75 21379.48\n",
            " 22847.46 23150.79 23869.92 23490.58 22745.48 23824.99 23253.37 23715.53\n",
            " 24693.58 26443.21 26246.58 27036.69 27376.37 28856.59 28982.56 29393.75\n",
            " 32195.46 33000.78 32035.03 34046.67 36860.41 39486.04 40670.25 40240.72\n",
            " 38240.09 35544.94 34011.82 37393.13 39158.47 36828.52 36065.2  35793.01\n",
            " 36632.35 36020.13 35538.98 30797.88 33002.38 32099.74 32276.84 32243.26\n",
            " 32541.8  30419.17 33403.17 34314.26 34318.1  33136.46 33522.9  35529.66\n",
            " 37676.25 37002.09 38278.61 39323.26 38928.1  46364.3  46589.58 44878.17\n",
            " 48013.38 47471.4  47185.19 48720.37 47951.85 49160.1  52118.23 51608.15\n",
            " 55916.5  56001.2  57487.86 54123.4  48880.43 50624.84 46800.42 46340.31\n",
            " 46155.87 45113.92 49618.43 48356.04 50477.7  48448.91 48861.38 48881.59\n",
            " 51169.7  52299.33 54881.52 55997.23 57764.   57253.28 61258.73 59133.47\n",
            " 55754.72 56872.38 58913.   57665.9  58075.1  58085.8  57411.17 54204.96\n",
            " 54477.46 52508.23 51415.92 55074.47 55863.93 55783.71 57627.67 58730.13\n",
            " 58735.25 58736.92 59031.32 57076.49 58206.55 59054.1 ]\n"
          ],
          "name": "stdout"
        }
      ]
    },
    {
      "cell_type": "code",
      "metadata": {
        "id": "FXkalR7-r7Vl"
      },
      "source": [
        "#Split the data into 80% trainig and 20% testing\n",
        "from sklearn.model_selection import train_test_split\n",
        " \n",
        "x_train, x_test, y_train, y_test = train_test_split(X, y, test_size=0.2) #Since test size is 20%, assuming that shuffle is also off, otherwise enclude that in the code"
      ],
      "execution_count": null,
      "outputs": []
    },
    {
      "cell_type": "code",
      "metadata": {
        "colab": {
          "base_uri": "https://localhost:8080/"
        },
        "id": "tox2TNdgsVvd",
        "outputId": "b393ac77-ddaf-4745-9c67-d24292c7cab9"
      },
      "source": [
        "# Set the prediciton_days_array equal to the last 30 days from the orignal data set\n",
        "prediction_days_array = np.array(df.drop(['Prediction'],1))[-prediction_days:]\n",
        "print(prediction_days_array)"
      ],
      "execution_count": null,
      "outputs": [
        {
          "output_type": "stream",
          "text": [
            "[[51169.7 ]\n",
            " [52299.33]\n",
            " [54881.52]\n",
            " [55997.23]\n",
            " [57764.  ]\n",
            " [57253.28]\n",
            " [61258.73]\n",
            " [59133.47]\n",
            " [55754.72]\n",
            " [56872.38]\n",
            " [58913.  ]\n",
            " [57665.9 ]\n",
            " [58075.1 ]\n",
            " [58085.8 ]\n",
            " [57411.17]\n",
            " [54204.96]\n",
            " [54477.46]\n",
            " [52508.23]\n",
            " [51415.92]\n",
            " [55074.47]\n",
            " [55863.93]\n",
            " [55783.71]\n",
            " [57627.67]\n",
            " [58730.13]\n",
            " [58735.25]\n",
            " [58736.92]\n",
            " [59031.32]\n",
            " [57076.49]\n",
            " [58206.55]\n",
            " [59054.1 ]]\n"
          ],
          "name": "stdout"
        }
      ]
    },
    {
      "cell_type": "code",
      "metadata": {
        "colab": {
          "base_uri": "https://localhost:8080/"
        },
        "id": "RA5iomVeuSIb",
        "outputId": "4defb183-3a16-4de3-bf4b-93e927ca0d97"
      },
      "source": [
        "# Machine learning using vector regression\n",
        "\n",
        "from sklearn.svm import SVR\n",
        "\n",
        "#Create and train the Support Vector Machine (Regression) using the radial basis function\n",
        "\n",
        "svr_rbf = SVR(kernel='rbf', C=1e3, gamma=0.00001)\n",
        "svr_rbf.fit(x_train, y_train)"
      ],
      "execution_count": null,
      "outputs": [
        {
          "output_type": "execute_result",
          "data": {
            "text/plain": [
              "SVR(C=1000.0, cache_size=200, coef0=0.0, degree=3, epsilon=0.1, gamma=1e-05,\n",
              "    kernel='rbf', max_iter=-1, shrinking=True, tol=0.001, verbose=False)"
            ]
          },
          "metadata": {
            "tags": []
          },
          "execution_count": 323
        }
      ]
    },
    {
      "cell_type": "code",
      "metadata": {
        "colab": {
          "base_uri": "https://localhost:8080/"
        },
        "id": "Fau3ZjOowIIC",
        "outputId": "d746ec78-09d3-4a31-f4e6-691ea8de93ad"
      },
      "source": [
        "#Test the model\n",
        "\n",
        "svr_rbf_confidence = svr_rbf.score(x_test, y_test)\n",
        "print(\"svr_rbf accuracy: \", svr_rbf_confidence)"
      ],
      "execution_count": null,
      "outputs": [
        {
          "output_type": "stream",
          "text": [
            "svr_rbf accuracy:  0.22734467414310178\n"
          ],
          "name": "stdout"
        }
      ]
    },
    {
      "cell_type": "code",
      "metadata": {
        "colab": {
          "base_uri": "https://localhost:8080/"
        },
        "id": "SLJ0eLNT_uAB",
        "outputId": "7c1f29d6-cd99-436a-cf09-40d9b6e28833"
      },
      "source": [
        "#Print the predicted values\n",
        "svm_predcition = svr_rbf.predict(x_test)\n",
        "print(svm_predcition)\n",
        "\n",
        "print()\n",
        "\n",
        "#print the actual values\n",
        "\n",
        "print(y_test)"
      ],
      "execution_count": null,
      "outputs": [
        {
          "output_type": "stream",
          "text": [
            "[ 9589.23385958 12078.87736262 20329.19551035 24207.86882624\n",
            "  9539.51350557 14923.48878212 10141.30036676 19098.22390751\n",
            " 13894.27910196 10234.16943304 13443.11757397 22081.04622979\n",
            " 11067.84566219 20730.73114371  9597.26919505 18546.57056173\n",
            " 10525.00462462 21219.58324651  9573.69728286 15847.63319332\n",
            " 22907.66839657 11190.52548975  9537.31837329 21945.07154424\n",
            " 20053.33568705  9537.57493211 22782.01188782 21676.38042739\n",
            " 11727.95233459  9827.93016744 11034.46008677 11328.49149682\n",
            " 11215.59328394 13966.26760905 19139.73781039 21968.08324489\n",
            " 22673.4345075  20289.72121354 21089.03386279  9553.10972611\n",
            " 22415.69748451 15166.60114917 13846.18010251 20051.39124471\n",
            " 23471.84195135 21849.10841947 15213.22348235 11333.44617172\n",
            " 12177.92355768 20570.25722679 18512.69469052 11391.08189313\n",
            " 10531.56856091 21156.21639624 15398.40686883 20051.39402471\n",
            " 11394.70113355 18896.8625186  13842.10365064 12287.37304358\n",
            " 13846.07039958 16582.93622992 11851.30303753 10731.85457759\n",
            " 11079.04909966 20051.4106027  13711.15416383]\n",
            "\n",
            "[11683.44 10670.8  54881.52 32195.46  9185.35  9178.32  9295.9  18803.44\n",
            " 13810.32 11337.4  12990.25 48881.59  9525.57 32243.26  9256.23 18699.75\n",
            " 10330.77 28856.59  9089.09  9303.59 50624.84 11823.69  9348.91 58736.92\n",
            " 30419.17  9526.   48880.43 47951.85  9450.84  9087.98 10788.56 10002.48\n",
            "  9551.28 15595.77 19454.54 33002.38 55916.5  46340.31 34318.1   9454.81\n",
            " 55783.71  9698.1  13076.37 57253.28 33000.78 46155.87  8730.73  9707.5\n",
            " 16295.57 48861.38 19172.52  9691.9  10446.44 47185.19  9892.13 33403.17\n",
            " 11774.38 18318.87 15591.39 15317.04 13128.46  8842.85  9286.42 11659.57\n",
            "  9459.97 58730.13 13758.88]\n"
          ],
          "name": "stdout"
        }
      ]
    }
  ]
}